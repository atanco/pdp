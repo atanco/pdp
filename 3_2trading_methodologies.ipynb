{
 "cells": [
  {
   "cell_type": "code",
   "execution_count": 4,
   "metadata": {},
   "outputs": [],
   "source": [
    "import pandas as pd\n",
    "\n",
    "pf_alloc = pd.read_csv(\"portfolio_allocations.csv\", index_col=0)"
   ]
  },
  {
   "cell_type": "code",
   "execution_count": 21,
   "metadata": {},
   "outputs": [],
   "source": [
    "pf_alloc.append(pf_alloc)\n",
    "conc = pd.concat([pf_alloc]*4).reset_index(drop=True)"
   ]
  },
  {
   "cell_type": "code",
   "execution_count": 45,
   "metadata": {},
   "outputs": [],
   "source": [
    "#trad_meths = pd.DataFrame(['1OFF', False]*10626, columns=['TradingMeth', 'Rebalance'])\n",
    "#pftrad_meths\n",
    "conc = conc.join(pd.concat([pd.DataFrame([['1OFF', False]], index=range(0,10626), columns=['TradingMeth', 'Rebalance']),\n",
    "          pd.DataFrame([['1OFF', True]], index=range(10626,10626*2), columns=['TradingMeth', 'Rebalance']),\n",
    "          pd.DataFrame([['DCA', False]], index=range(10626*2,10626*3), columns=['TradingMeth', 'Rebalance']),\n",
    "          pd.DataFrame([['DCA', True]], index=range(10626*3,10626*4), columns=['TradingMeth', 'Rebalance'])]\n",
    "         ))"
   ]
  },
  {
   "cell_type": "code",
   "execution_count": 49,
   "metadata": {},
   "outputs": [],
   "source": [
    "conc.to_csv(\"trading_methodologies.csv\")"
   ]
  }
 ],
 "metadata": {
  "kernelspec": {
   "display_name": "Python 3",
   "language": "python",
   "name": "python3"
  },
  "language_info": {
   "codemirror_mode": {
    "name": "ipython",
    "version": 3
   },
   "file_extension": ".py",
   "mimetype": "text/x-python",
   "name": "python",
   "nbconvert_exporter": "python",
   "pygments_lexer": "ipython3",
   "version": "3.6.9"
  }
 },
 "nbformat": 4,
 "nbformat_minor": 4
}
