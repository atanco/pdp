{
 "cells": [
  {
   "cell_type": "code",
   "execution_count": 1,
   "metadata": {
    "id": "X5aD1DISc5a5"
   },
   "outputs": [],
   "source": [
    "%matplotlib inline\n",
    "import math\n",
    "import numpy as np\n",
    "import pandas as pd\n",
    "import scipy.stats as stats\n",
    "import matplotlib.pyplot as plt\n",
    "\n",
    "from collections import defaultdict\n",
    "from scipy.stats.stats import pearsonr"
   ]
  },
  {
   "cell_type": "code",
   "execution_count": 2,
   "metadata": {
    "colab": {
     "base_uri": "https://localhost:8080/"
    },
    "id": "NnIt1u_aeZMQ",
    "outputId": "39d7da85-342b-4219-9295-11c7d9e4c852"
   },
   "outputs": [
    {
     "ename": "ModuleNotFoundError",
     "evalue": "No module named 'google'",
     "output_type": "error",
     "traceback": [
      "\u001b[1;31m---------------------------------------------------------------------------\u001b[0m",
      "\u001b[1;31mModuleNotFoundError\u001b[0m                       Traceback (most recent call last)",
      "\u001b[1;32m<ipython-input-2-a145c0899d7d>\u001b[0m in \u001b[0;36m<module>\u001b[1;34m\u001b[0m\n\u001b[1;32m----> 1\u001b[1;33m \u001b[1;32mfrom\u001b[0m \u001b[0mgoogle\u001b[0m\u001b[1;33m.\u001b[0m\u001b[0mcolab\u001b[0m \u001b[1;32mimport\u001b[0m \u001b[0mdrive\u001b[0m\u001b[1;33m\u001b[0m\u001b[1;33m\u001b[0m\u001b[0m\n\u001b[0m\u001b[0;32m      2\u001b[0m \u001b[0mdrive\u001b[0m\u001b[1;33m.\u001b[0m\u001b[0mmount\u001b[0m\u001b[1;33m(\u001b[0m\u001b[1;34m'/content/drive'\u001b[0m\u001b[1;33m,\u001b[0m \u001b[0mforce_remount\u001b[0m\u001b[1;33m=\u001b[0m\u001b[1;32mTrue\u001b[0m\u001b[1;33m)\u001b[0m\u001b[1;33m\u001b[0m\u001b[1;33m\u001b[0m\u001b[0m\n",
      "\u001b[1;31mModuleNotFoundError\u001b[0m: No module named 'google'"
     ]
    }
   ],
   "source": [
    "from google.colab import drive\n",
    "drive.mount('/content/drive', force_remount=True)"
   ]
  },
  {
   "cell_type": "code",
   "execution_count": null,
   "metadata": {
    "id": "f1VRFKBUeaV3"
   },
   "outputs": [],
   "source": [
    "gold = pd.read_csv(\"/content/drive/MyDrive/Buraz/spdr-gold-trust.csv\")"
   ]
  },
  {
   "cell_type": "code",
   "execution_count": null,
   "metadata": {
    "colab": {
     "base_uri": "https://localhost:8080/",
     "height": 355
    },
    "id": "ufOfufspfjZL",
    "outputId": "3c584426-2c5f-4e5b-fb09-467eac4a0bb3"
   },
   "outputs": [],
   "source": [
    "gold.head(10)\n",
    "gold.tail(10)"
   ]
  },
  {
   "cell_type": "code",
   "execution_count": null,
   "metadata": {
    "id": "VAZ6W7huoSNw"
   },
   "outputs": [],
   "source": [
    "del gold['Unnamed: 0']"
   ]
  },
  {
   "cell_type": "code",
   "execution_count": null,
   "metadata": {
    "colab": {
     "base_uri": "https://localhost:8080/"
    },
    "id": "-0yszAAefsws",
    "outputId": "ab356b58-fd7d-4475-d90d-c51b03eee373"
   },
   "outputs": [],
   "source": [
    "gold.dtypes"
   ]
  },
  {
   "cell_type": "code",
   "execution_count": null,
   "metadata": {
    "colab": {
     "base_uri": "https://localhost:8080/"
    },
    "id": "byCr0T95fu8c",
    "outputId": "e0c53ca9-5cc7-4f4d-ea3b-b4e69986609a"
   },
   "outputs": [],
   "source": [
    "gold.info()"
   ]
  },
  {
   "cell_type": "code",
   "execution_count": null,
   "metadata": {
    "colab": {
     "base_uri": "https://localhost:8080/",
     "height": 294
    },
    "id": "jZHUzhtyf57G",
    "outputId": "45677145-26c6-4927-81ad-6dcf06f3dbd7"
   },
   "outputs": [],
   "source": [
    "gold.describe()"
   ]
  },
  {
   "cell_type": "markdown",
   "metadata": {
    "id": "5Qi7QnQzYWqs"
   },
   "source": [
    "Converting Strings to Floats (Vol. and change% attributes)"
   ]
  },
  {
   "cell_type": "code",
   "execution_count": null,
   "metadata": {
    "id": "KYB-NGWEKsJa"
   },
   "outputs": [],
   "source": [
    "#converting strings in column Vol. to float or int\n",
    "for number in gold['Vol.']:\n",
    "    if 'M' in str(number):\n",
    "      new=str(number)[:-1]\n",
    "      new= float(new)*1000000\n",
    "      gold=gold.replace(number, new)\n",
    "    else:\n",
    "      gold = gold.replace(number, np.nan) #replacing other non numerical values like '-'\n"
   ]
  },
  {
   "cell_type": "code",
   "execution_count": null,
   "metadata": {
    "colab": {
     "base_uri": "https://localhost:8080/"
    },
    "id": "l7292RTpXL1W",
    "outputId": "6db790fc-5dd2-46ea-aa8d-82a15d455e8f"
   },
   "outputs": [],
   "source": [
    "gold.dtypes"
   ]
  },
  {
   "cell_type": "code",
   "execution_count": null,
   "metadata": {
    "colab": {
     "base_uri": "https://localhost:8080/"
    },
    "id": "OLnHAJjlgIn3",
    "outputId": "c18690c2-0567-46a0-f2f5-bac3d4533c40"
   },
   "outputs": [],
   "source": [
    "gold.isnull().any()"
   ]
  },
  {
   "cell_type": "code",
   "execution_count": null,
   "metadata": {
    "colab": {
     "base_uri": "https://localhost:8080/",
     "height": 355
    },
    "id": "z3MhERfLZ9Ys",
    "outputId": "8e21c7a2-75a3-46e8-8cc2-a288c2069661"
   },
   "outputs": [],
   "source": [
    "#converting strings in column Change % to float or int\n",
    "for number in gold['Change %']:\n",
    "    if '%' in str(number):\n",
    "      new=str(number)[:-1]\n",
    "      new= float(new)/100\n",
    "      gold=gold.replace(number, new)\n",
    "    else:\n",
    "      gold = gold.replace(number, np.nan) #replacing other non numerical values like '-'\n",
    "gold[50:60]"
   ]
  },
  {
   "cell_type": "markdown",
   "metadata": {
    "id": "jc5-XnTCgmCO"
   },
   "source": [
    "Adding the data for non-existing dates"
   ]
  },
  {
   "cell_type": "code",
   "execution_count": null,
   "metadata": {
    "colab": {
     "base_uri": "https://localhost:8080/"
    },
    "id": "yQ3hrqzOgM4Y",
    "outputId": "9033657a-e145-43a5-c0c8-2822860cf3a2"
   },
   "outputs": [],
   "source": [
    "\n",
    "gold[\"Date\"] = pd.to_datetime(gold[\"Date\"])\n",
    "difference_dates = pd.date_range(start='2020-01-01', end='2020-12-31').difference(gold[\"Date\"])\n",
    "#data = gold.reindex(pd.date_range(start='2020-01-01', end='2020-12-31'), fill_value=\"nan\")\n",
    "#print(data)\n",
    "print(difference_dates)\n",
    "\n",
    "# formatted_data = data[\"Date\"].dt.strftime(\"%Y-%m-%d\")\n",
    "# print(formatted_data.head())"
   ]
  },
  {
   "cell_type": "code",
   "execution_count": null,
   "metadata": {
    "id": "F_D485h_jNCR"
   },
   "outputs": [],
   "source": [
    "column_names=[]\n",
    "for col in gold.columns:\n",
    "    column_names+=[col]"
   ]
  },
  {
   "cell_type": "code",
   "execution_count": null,
   "metadata": {
    "id": "wl9WWOYNmu6x"
   },
   "outputs": [],
   "source": [
    "missing=pd.DataFrame(columns=column_names)"
   ]
  },
  {
   "cell_type": "code",
   "execution_count": null,
   "metadata": {
    "colab": {
     "base_uri": "https://localhost:8080/",
     "height": 49
    },
    "id": "X7IZSAUYnAQP",
    "outputId": "a231d765-9bb8-412c-884c-6291cfaba88e"
   },
   "outputs": [],
   "source": [
    "missing"
   ]
  },
  {
   "cell_type": "code",
   "execution_count": null,
   "metadata": {
    "id": "FihKB5vrng4v"
   },
   "outputs": [],
   "source": [
    "for date in difference_dates:\n",
    "  missing=missing.append({'Date':date}, ignore_index=True)\n"
   ]
  },
  {
   "cell_type": "code",
   "execution_count": null,
   "metadata": {
    "colab": {
     "base_uri": "https://localhost:8080/",
     "height": 202
    },
    "id": "GZpXvoi7nvI7",
    "outputId": "b8d487cd-f1ab-478b-d753-66ecf6c30f2f"
   },
   "outputs": [],
   "source": [
    "missing.head()"
   ]
  },
  {
   "cell_type": "code",
   "execution_count": null,
   "metadata": {
    "id": "gsHhpz23n99q"
   },
   "outputs": [],
   "source": [
    "goldf= pd.concat([missing, gold]) #filled gold daatset\n"
   ]
  },
  {
   "cell_type": "code",
   "execution_count": null,
   "metadata": {
    "colab": {
     "base_uri": "https://localhost:8080/"
    },
    "id": "7SZvf8rhvVgv",
    "outputId": "0b31127e-0b20-4914-94ad-541af87ba2e0"
   },
   "outputs": [],
   "source": [
    "goldf.isnull().sum()"
   ]
  },
  {
   "cell_type": "code",
   "execution_count": null,
   "metadata": {
    "colab": {
     "base_uri": "https://localhost:8080/",
     "height": 415
    },
    "id": "G1QiSlvOr7IA",
    "outputId": "3dab6512-ec08-4533-d5ba-2a73d43e1b9d"
   },
   "outputs": [],
   "source": [
    "goldf"
   ]
  },
  {
   "cell_type": "code",
   "execution_count": null,
   "metadata": {
    "id": "6ojTLi1wp728"
   },
   "outputs": [],
   "source": [
    "goldf=goldf.sort_values(['Date'])"
   ]
  },
  {
   "cell_type": "code",
   "execution_count": null,
   "metadata": {
    "colab": {
     "base_uri": "https://localhost:8080/",
     "height": 415
    },
    "id": "6NJEfO9PsWSK",
    "outputId": "b6d28282-5728-4dfa-da43-4865aa097dd1"
   },
   "outputs": [],
   "source": [
    "goldf.reset_index(level=0,inplace=True)\n",
    "goldf"
   ]
  },
  {
   "cell_type": "code",
   "execution_count": null,
   "metadata": {
    "id": "H1hNVrU2tGJS"
   },
   "outputs": [],
   "source": [
    "del goldf['index']"
   ]
  },
  {
   "cell_type": "markdown",
   "metadata": {
    "id": "xL0lcOUeZAaL"
   },
   "source": [
    "Interpolating missing data "
   ]
  },
  {
   "cell_type": "code",
   "execution_count": null,
   "metadata": {
    "id": "eu3z2Vu9uTqT"
   },
   "outputs": [],
   "source": [
    "goldf=goldf.interpolate()"
   ]
  },
  {
   "cell_type": "code",
   "execution_count": null,
   "metadata": {
    "id": "7wXoZZUYV92J"
   },
   "outputs": [],
   "source": []
  },
  {
   "cell_type": "code",
   "execution_count": null,
   "metadata": {
    "colab": {
     "base_uri": "https://localhost:8080/",
     "height": 415
    },
    "id": "Xtp1mgy_DlPE",
    "outputId": "10eb7caf-df40-4a63-bb06-a723388add4c"
   },
   "outputs": [],
   "source": [
    "goldf"
   ]
  },
  {
   "cell_type": "code",
   "execution_count": null,
   "metadata": {
    "colab": {
     "base_uri": "https://localhost:8080/"
    },
    "id": "yxnDT4AYu4Ur",
    "outputId": "588a0e4b-5f2c-46b4-b638-7aca392e4f8d"
   },
   "outputs": [],
   "source": [
    "goldf.isnull().sum()"
   ]
  },
  {
   "cell_type": "code",
   "execution_count": null,
   "metadata": {
    "colab": {
     "base_uri": "https://localhost:8080/"
    },
    "id": "BIewXWdAbgy2",
    "outputId": "105c5046-6080-4cc5-975d-9015a0b55155"
   },
   "outputs": [],
   "source": [
    "#substituting the missing values in the first row which were not \n",
    "#interpolated with the values from the second rpw\n",
    "\n",
    "for col in column_names:\n",
    "   if col!=\"Date\":\n",
    "      goldf[col][0]=goldf[col][1]"
   ]
  },
  {
   "cell_type": "code",
   "execution_count": null,
   "metadata": {
    "colab": {
     "base_uri": "https://localhost:8080/",
     "height": 415
    },
    "id": "2I2bOd_-3FQI",
    "outputId": "7663dab6-8364-45ec-b8b9-991231bb87e3"
   },
   "outputs": [],
   "source": [
    "goldf"
   ]
  },
  {
   "cell_type": "code",
   "execution_count": null,
   "metadata": {
    "colab": {
     "base_uri": "https://localhost:8080/"
    },
    "id": "eUJzl4Oy3Ia1",
    "outputId": "29d29313-8d05-4bd4-f8cf-f87ce2c51cb5"
   },
   "outputs": [],
   "source": [
    "goldf.isnull().sum()"
   ]
  },
  {
   "cell_type": "markdown",
   "metadata": {
    "id": "6INZquWoZxkB"
   },
   "source": [
    "Plotting stuff"
   ]
  },
  {
   "cell_type": "code",
   "execution_count": null,
   "metadata": {
    "colab": {
     "base_uri": "https://localhost:8080/"
    },
    "id": "vj8j-h1WDzg3",
    "outputId": "4215270d-4aeb-43a8-9d12-a28589a67660"
   },
   "outputs": [],
   "source": [
    "goldf['Price'][0]=goldf['Price'][1]"
   ]
  },
  {
   "cell_type": "code",
   "execution_count": null,
   "metadata": {
    "id": "omWn3eJPGNTQ"
   },
   "outputs": [],
   "source": [
    "goldf.to_csv('Gold.csv')"
   ]
  },
  {
   "cell_type": "code",
   "execution_count": null,
   "metadata": {
    "id": "_td8aS4LIx1h"
   },
   "outputs": [],
   "source": [
    "goldf['Price'].plot(grid=True) #gotta put dates instead of indexes on y axis"
   ]
  },
  {
   "cell_type": "markdown",
   "metadata": {
    "id": "LAXQrw0cHoMM"
   },
   "source": [
    "# Nuova sezione"
   ]
  }
 ],
 "metadata": {
  "colab": {
   "collapsed_sections": [],
   "name": "Missing_Value_Treatment_Gold.ipynb",
   "provenance": []
  },
  "kernelspec": {
   "display_name": "Python 3",
   "language": "python",
   "name": "python3"
  },
  "language_info": {
   "codemirror_mode": {
    "name": "ipython",
    "version": 3
   },
   "file_extension": ".py",
   "mimetype": "text/x-python",
   "name": "python",
   "nbconvert_exporter": "python",
   "pygments_lexer": "ipython3",
   "version": "3.8.5"
  }
 },
 "nbformat": 4,
 "nbformat_minor": 1
}
